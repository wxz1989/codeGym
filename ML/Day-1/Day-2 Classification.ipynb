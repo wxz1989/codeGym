{
 "cells": [
  {
   "cell_type": "code",
   "execution_count": 1,
   "metadata": {},
   "outputs": [
    {
     "name": "stderr",
     "output_type": "stream",
     "text": [
      "/Users/rakesh/anaconda2/lib/python2.7/site-packages/sklearn/cross_validation.py:41: DeprecationWarning: This module was deprecated in version 0.18 in favor of the model_selection module into which all the refactored classes and functions are moved. Also note that the interface of the new CV iterators are different from that of this module. This module will be removed in 0.20.\n",
      "  \"This module will be removed in 0.20.\", DeprecationWarning)\n",
      "/Users/rakesh/anaconda2/lib/python2.7/site-packages/sklearn/grid_search.py:42: DeprecationWarning: This module was deprecated in version 0.18 in favor of the model_selection module into which all the refactored classes and functions are moved. This module will be removed in 0.20.\n",
      "  DeprecationWarning)\n",
      "/Users/rakesh/anaconda2/lib/python2.7/site-packages/sklearn/learning_curve.py:22: DeprecationWarning: This module was deprecated in version 0.18 in favor of the model_selection module into which all the functions are moved. This module will be removed in 0.20\n",
      "  DeprecationWarning)\n",
      "/Users/rakesh/anaconda2/lib/python2.7/site-packages/matplotlib/font_manager.py:281: UserWarning: Matplotlib is building the font cache using fc-list. This may take a moment.\n",
      "  'Matplotlib is building the font cache using fc-list. '\n"
     ]
    }
   ],
   "source": [
    "import pandas as pd\n",
    "\n",
    "pd.options.display.max_rows = 10\n",
    "pd.options.display.max_columns = 1000\n",
    "\n",
    "from sklearn import *\n",
    "import numpy as np\n",
    "\n",
    "from mlxtend.plotting import plot_confusion_matrix"
   ]
  },
  {
   "cell_type": "code",
   "execution_count": 3,
   "metadata": {},
   "outputs": [],
   "source": [
    "df = pd.read_csv(\"../data/credit-default.csv\")"
   ]
  },
  {
   "cell_type": "code",
   "execution_count": 4,
   "metadata": {},
   "outputs": [
    {
     "data": {
      "text/html": [
       "<div>\n",
       "<style scoped>\n",
       "    .dataframe tbody tr th:only-of-type {\n",
       "        vertical-align: middle;\n",
       "    }\n",
       "\n",
       "    .dataframe tbody tr th {\n",
       "        vertical-align: top;\n",
       "    }\n",
       "\n",
       "    .dataframe thead th {\n",
       "        text-align: right;\n",
       "    }\n",
       "</style>\n",
       "<table border=\"1\" class=\"dataframe\">\n",
       "  <thead>\n",
       "    <tr style=\"text-align: right;\">\n",
       "      <th></th>\n",
       "      <th>checking_balance</th>\n",
       "      <th>months_loan_duration</th>\n",
       "      <th>credit_history</th>\n",
       "      <th>purpose</th>\n",
       "      <th>amount</th>\n",
       "      <th>savings_balance</th>\n",
       "      <th>employment_length</th>\n",
       "      <th>installment_rate</th>\n",
       "      <th>personal_status</th>\n",
       "      <th>other_debtors</th>\n",
       "      <th>residence_history</th>\n",
       "      <th>property</th>\n",
       "      <th>age</th>\n",
       "      <th>installment_plan</th>\n",
       "      <th>housing</th>\n",
       "      <th>existing_credits</th>\n",
       "      <th>default</th>\n",
       "      <th>dependents</th>\n",
       "      <th>telephone</th>\n",
       "      <th>foreign_worker</th>\n",
       "      <th>job</th>\n",
       "    </tr>\n",
       "  </thead>\n",
       "  <tbody>\n",
       "    <tr>\n",
       "      <th>0</th>\n",
       "      <td>&lt; 0 DM</td>\n",
       "      <td>6</td>\n",
       "      <td>critical</td>\n",
       "      <td>radio/tv</td>\n",
       "      <td>1169</td>\n",
       "      <td>unknown</td>\n",
       "      <td>&gt; 7 yrs</td>\n",
       "      <td>4</td>\n",
       "      <td>single male</td>\n",
       "      <td>none</td>\n",
       "      <td>4</td>\n",
       "      <td>real estate</td>\n",
       "      <td>67</td>\n",
       "      <td>none</td>\n",
       "      <td>own</td>\n",
       "      <td>2</td>\n",
       "      <td>1</td>\n",
       "      <td>1</td>\n",
       "      <td>yes</td>\n",
       "      <td>yes</td>\n",
       "      <td>skilled employee</td>\n",
       "    </tr>\n",
       "    <tr>\n",
       "      <th>1</th>\n",
       "      <td>1 - 200 DM</td>\n",
       "      <td>48</td>\n",
       "      <td>repaid</td>\n",
       "      <td>radio/tv</td>\n",
       "      <td>5951</td>\n",
       "      <td>&lt; 100 DM</td>\n",
       "      <td>1 - 4 yrs</td>\n",
       "      <td>2</td>\n",
       "      <td>female</td>\n",
       "      <td>none</td>\n",
       "      <td>2</td>\n",
       "      <td>real estate</td>\n",
       "      <td>22</td>\n",
       "      <td>none</td>\n",
       "      <td>own</td>\n",
       "      <td>1</td>\n",
       "      <td>2</td>\n",
       "      <td>1</td>\n",
       "      <td>none</td>\n",
       "      <td>yes</td>\n",
       "      <td>skilled employee</td>\n",
       "    </tr>\n",
       "    <tr>\n",
       "      <th>2</th>\n",
       "      <td>unknown</td>\n",
       "      <td>12</td>\n",
       "      <td>critical</td>\n",
       "      <td>education</td>\n",
       "      <td>2096</td>\n",
       "      <td>&lt; 100 DM</td>\n",
       "      <td>4 - 7 yrs</td>\n",
       "      <td>2</td>\n",
       "      <td>single male</td>\n",
       "      <td>none</td>\n",
       "      <td>3</td>\n",
       "      <td>real estate</td>\n",
       "      <td>49</td>\n",
       "      <td>none</td>\n",
       "      <td>own</td>\n",
       "      <td>1</td>\n",
       "      <td>1</td>\n",
       "      <td>2</td>\n",
       "      <td>none</td>\n",
       "      <td>yes</td>\n",
       "      <td>unskilled resident</td>\n",
       "    </tr>\n",
       "    <tr>\n",
       "      <th>3</th>\n",
       "      <td>&lt; 0 DM</td>\n",
       "      <td>42</td>\n",
       "      <td>repaid</td>\n",
       "      <td>furniture</td>\n",
       "      <td>7882</td>\n",
       "      <td>&lt; 100 DM</td>\n",
       "      <td>4 - 7 yrs</td>\n",
       "      <td>2</td>\n",
       "      <td>single male</td>\n",
       "      <td>guarantor</td>\n",
       "      <td>4</td>\n",
       "      <td>building society savings</td>\n",
       "      <td>45</td>\n",
       "      <td>none</td>\n",
       "      <td>for free</td>\n",
       "      <td>1</td>\n",
       "      <td>1</td>\n",
       "      <td>2</td>\n",
       "      <td>none</td>\n",
       "      <td>yes</td>\n",
       "      <td>skilled employee</td>\n",
       "    </tr>\n",
       "    <tr>\n",
       "      <th>4</th>\n",
       "      <td>&lt; 0 DM</td>\n",
       "      <td>24</td>\n",
       "      <td>delayed</td>\n",
       "      <td>car (new)</td>\n",
       "      <td>4870</td>\n",
       "      <td>&lt; 100 DM</td>\n",
       "      <td>1 - 4 yrs</td>\n",
       "      <td>3</td>\n",
       "      <td>single male</td>\n",
       "      <td>none</td>\n",
       "      <td>4</td>\n",
       "      <td>unknown/none</td>\n",
       "      <td>53</td>\n",
       "      <td>none</td>\n",
       "      <td>for free</td>\n",
       "      <td>2</td>\n",
       "      <td>2</td>\n",
       "      <td>2</td>\n",
       "      <td>none</td>\n",
       "      <td>yes</td>\n",
       "      <td>skilled employee</td>\n",
       "    </tr>\n",
       "    <tr>\n",
       "      <th>...</th>\n",
       "      <td>...</td>\n",
       "      <td>...</td>\n",
       "      <td>...</td>\n",
       "      <td>...</td>\n",
       "      <td>...</td>\n",
       "      <td>...</td>\n",
       "      <td>...</td>\n",
       "      <td>...</td>\n",
       "      <td>...</td>\n",
       "      <td>...</td>\n",
       "      <td>...</td>\n",
       "      <td>...</td>\n",
       "      <td>...</td>\n",
       "      <td>...</td>\n",
       "      <td>...</td>\n",
       "      <td>...</td>\n",
       "      <td>...</td>\n",
       "      <td>...</td>\n",
       "      <td>...</td>\n",
       "      <td>...</td>\n",
       "      <td>...</td>\n",
       "    </tr>\n",
       "    <tr>\n",
       "      <th>995</th>\n",
       "      <td>unknown</td>\n",
       "      <td>12</td>\n",
       "      <td>repaid</td>\n",
       "      <td>furniture</td>\n",
       "      <td>1736</td>\n",
       "      <td>&lt; 100 DM</td>\n",
       "      <td>4 - 7 yrs</td>\n",
       "      <td>3</td>\n",
       "      <td>female</td>\n",
       "      <td>none</td>\n",
       "      <td>4</td>\n",
       "      <td>real estate</td>\n",
       "      <td>31</td>\n",
       "      <td>none</td>\n",
       "      <td>own</td>\n",
       "      <td>1</td>\n",
       "      <td>1</td>\n",
       "      <td>1</td>\n",
       "      <td>none</td>\n",
       "      <td>yes</td>\n",
       "      <td>unskilled resident</td>\n",
       "    </tr>\n",
       "    <tr>\n",
       "      <th>996</th>\n",
       "      <td>&lt; 0 DM</td>\n",
       "      <td>30</td>\n",
       "      <td>repaid</td>\n",
       "      <td>car (used)</td>\n",
       "      <td>3857</td>\n",
       "      <td>&lt; 100 DM</td>\n",
       "      <td>1 - 4 yrs</td>\n",
       "      <td>4</td>\n",
       "      <td>divorced male</td>\n",
       "      <td>none</td>\n",
       "      <td>4</td>\n",
       "      <td>building society savings</td>\n",
       "      <td>40</td>\n",
       "      <td>none</td>\n",
       "      <td>own</td>\n",
       "      <td>1</td>\n",
       "      <td>1</td>\n",
       "      <td>1</td>\n",
       "      <td>yes</td>\n",
       "      <td>yes</td>\n",
       "      <td>mangement self-employed</td>\n",
       "    </tr>\n",
       "    <tr>\n",
       "      <th>997</th>\n",
       "      <td>unknown</td>\n",
       "      <td>12</td>\n",
       "      <td>repaid</td>\n",
       "      <td>radio/tv</td>\n",
       "      <td>804</td>\n",
       "      <td>&lt; 100 DM</td>\n",
       "      <td>&gt; 7 yrs</td>\n",
       "      <td>4</td>\n",
       "      <td>single male</td>\n",
       "      <td>none</td>\n",
       "      <td>4</td>\n",
       "      <td>other</td>\n",
       "      <td>38</td>\n",
       "      <td>none</td>\n",
       "      <td>own</td>\n",
       "      <td>1</td>\n",
       "      <td>1</td>\n",
       "      <td>1</td>\n",
       "      <td>none</td>\n",
       "      <td>yes</td>\n",
       "      <td>skilled employee</td>\n",
       "    </tr>\n",
       "    <tr>\n",
       "      <th>998</th>\n",
       "      <td>&lt; 0 DM</td>\n",
       "      <td>45</td>\n",
       "      <td>repaid</td>\n",
       "      <td>radio/tv</td>\n",
       "      <td>1845</td>\n",
       "      <td>&lt; 100 DM</td>\n",
       "      <td>1 - 4 yrs</td>\n",
       "      <td>4</td>\n",
       "      <td>single male</td>\n",
       "      <td>none</td>\n",
       "      <td>4</td>\n",
       "      <td>unknown/none</td>\n",
       "      <td>23</td>\n",
       "      <td>none</td>\n",
       "      <td>for free</td>\n",
       "      <td>1</td>\n",
       "      <td>2</td>\n",
       "      <td>1</td>\n",
       "      <td>yes</td>\n",
       "      <td>yes</td>\n",
       "      <td>skilled employee</td>\n",
       "    </tr>\n",
       "    <tr>\n",
       "      <th>999</th>\n",
       "      <td>1 - 200 DM</td>\n",
       "      <td>45</td>\n",
       "      <td>critical</td>\n",
       "      <td>car (used)</td>\n",
       "      <td>4576</td>\n",
       "      <td>101 - 500 DM</td>\n",
       "      <td>unemployed</td>\n",
       "      <td>3</td>\n",
       "      <td>single male</td>\n",
       "      <td>none</td>\n",
       "      <td>4</td>\n",
       "      <td>other</td>\n",
       "      <td>27</td>\n",
       "      <td>none</td>\n",
       "      <td>own</td>\n",
       "      <td>1</td>\n",
       "      <td>1</td>\n",
       "      <td>1</td>\n",
       "      <td>none</td>\n",
       "      <td>yes</td>\n",
       "      <td>skilled employee</td>\n",
       "    </tr>\n",
       "  </tbody>\n",
       "</table>\n",
       "<p>1000 rows × 21 columns</p>\n",
       "</div>"
      ],
      "text/plain": [
       "    checking_balance  months_loan_duration credit_history     purpose  amount  \\\n",
       "0             < 0 DM                     6       critical    radio/tv    1169   \n",
       "1         1 - 200 DM                    48         repaid    radio/tv    5951   \n",
       "2            unknown                    12       critical   education    2096   \n",
       "3             < 0 DM                    42         repaid   furniture    7882   \n",
       "4             < 0 DM                    24        delayed   car (new)    4870   \n",
       "..               ...                   ...            ...         ...     ...   \n",
       "995          unknown                    12         repaid   furniture    1736   \n",
       "996           < 0 DM                    30         repaid  car (used)    3857   \n",
       "997          unknown                    12         repaid    radio/tv     804   \n",
       "998           < 0 DM                    45         repaid    radio/tv    1845   \n",
       "999       1 - 200 DM                    45       critical  car (used)    4576   \n",
       "\n",
       "    savings_balance employment_length  installment_rate personal_status  \\\n",
       "0           unknown           > 7 yrs                 4     single male   \n",
       "1          < 100 DM         1 - 4 yrs                 2          female   \n",
       "2          < 100 DM         4 - 7 yrs                 2     single male   \n",
       "3          < 100 DM         4 - 7 yrs                 2     single male   \n",
       "4          < 100 DM         1 - 4 yrs                 3     single male   \n",
       "..              ...               ...               ...             ...   \n",
       "995        < 100 DM         4 - 7 yrs                 3          female   \n",
       "996        < 100 DM         1 - 4 yrs                 4   divorced male   \n",
       "997        < 100 DM           > 7 yrs                 4     single male   \n",
       "998        < 100 DM         1 - 4 yrs                 4     single male   \n",
       "999    101 - 500 DM        unemployed                 3     single male   \n",
       "\n",
       "    other_debtors  residence_history                  property  age  \\\n",
       "0            none                  4               real estate   67   \n",
       "1            none                  2               real estate   22   \n",
       "2            none                  3               real estate   49   \n",
       "3       guarantor                  4  building society savings   45   \n",
       "4            none                  4              unknown/none   53   \n",
       "..            ...                ...                       ...  ...   \n",
       "995          none                  4               real estate   31   \n",
       "996          none                  4  building society savings   40   \n",
       "997          none                  4                     other   38   \n",
       "998          none                  4              unknown/none   23   \n",
       "999          none                  4                     other   27   \n",
       "\n",
       "    installment_plan   housing  existing_credits  default  dependents  \\\n",
       "0               none       own                 2        1           1   \n",
       "1               none       own                 1        2           1   \n",
       "2               none       own                 1        1           2   \n",
       "3               none  for free                 1        1           2   \n",
       "4               none  for free                 2        2           2   \n",
       "..               ...       ...               ...      ...         ...   \n",
       "995             none       own                 1        1           1   \n",
       "996             none       own                 1        1           1   \n",
       "997             none       own                 1        1           1   \n",
       "998             none  for free                 1        2           1   \n",
       "999             none       own                 1        1           1   \n",
       "\n",
       "    telephone foreign_worker                      job  \n",
       "0         yes            yes         skilled employee  \n",
       "1        none            yes         skilled employee  \n",
       "2        none            yes       unskilled resident  \n",
       "3        none            yes         skilled employee  \n",
       "4        none            yes         skilled employee  \n",
       "..        ...            ...                      ...  \n",
       "995      none            yes       unskilled resident  \n",
       "996       yes            yes  mangement self-employed  \n",
       "997      none            yes         skilled employee  \n",
       "998       yes            yes         skilled employee  \n",
       "999      none            yes         skilled employee  \n",
       "\n",
       "[1000 rows x 21 columns]"
      ]
     },
     "execution_count": 4,
     "metadata": {},
     "output_type": "execute_result"
    }
   ],
   "source": [
    "df"
   ]
  },
  {
   "cell_type": "code",
   "execution_count": 33,
   "metadata": {},
   "outputs": [
    {
     "data": {
      "text/plain": [
       "Index([u'checking_balance', u'months_loan_duration', u'credit_history',\n",
       "       u'purpose', u'amount', u'savings_balance', u'employment_length',\n",
       "       u'installment_rate', u'personal_status', u'other_debtors',\n",
       "       u'residence_history', u'property', u'age', u'installment_plan',\n",
       "       u'housing', u'existing_credits', u'default', u'dependents',\n",
       "       u'telephone', u'foreign_worker', u'job'],\n",
       "      dtype='object')"
      ]
     },
     "execution_count": 33,
     "metadata": {},
     "output_type": "execute_result"
    }
   ],
   "source": [
    "df.default.value_counts()\n",
    "df.columns"
   ]
  },
  {
   "cell_type": "code",
   "execution_count": 44,
   "metadata": {},
   "outputs": [],
   "source": [
    "target = \"default\"\n",
    "X = df.copy()\n",
    "del X[target]\n",
    "\n",
    "X = pd.get_dummies(X, drop_first = True)\n",
    "columns = X.columns\n",
    "\n",
    "y = np.where(df[target] == 2, 1, 0)\n",
    "\n",
    "X_train, X_test, y_train, y_test = model_selection.train_test_split(X.values.astype(np.float64)\n",
    "                            , y, test_size = 0.3, random_state = 1)\n",
    "\n",
    "pipe = pipeline.Pipeline([\n",
    "    (\"scaler\", preprocessing.StandardScaler()),\n",
    "    (\"est\", linear_model.LogisticRegression())\n",
    "])\n",
    "\n",
    "pipe.fit(X_train, y_train)\n",
    "\n",
    "y_train_pred = pipe.predict(X_train)\n",
    "y_test_pred = pipe.predict(X_test)"
   ]
  },
  {
   "cell_type": "code",
   "execution_count": 45,
   "metadata": {},
   "outputs": [
    {
     "data": {
      "text/plain": [
       "array([1, 0, 1, 0, 0, 0, 1, 0, 0, 0, 0, 0, 0, 0, 0, 0, 1, 0, 0, 0, 0, 0,\n",
       "       0, 0, 0, 0, 1, 0, 0, 1, 0, 0, 0, 0, 0, 0, 0, 1, 0, 0, 0, 1, 0, 0,\n",
       "       0, 0, 0, 0, 0, 0, 1, 0, 0, 1, 1, 1, 0, 0, 0, 0, 0, 1, 0, 1, 0, 0,\n",
       "       1, 1, 0, 1, 1, 0, 0, 0, 1, 1, 0, 1, 0, 0, 0, 0, 0, 1, 1, 0, 1, 0,\n",
       "       1, 0, 0, 1, 0, 0, 1, 1, 0, 0, 1, 0, 0, 0, 0, 0, 1, 0, 0, 1, 0, 0,\n",
       "       1, 1, 0, 0, 0, 0, 1, 0, 0, 0, 0, 0, 0, 0, 0, 1, 0, 0, 0, 0, 1, 0,\n",
       "       1, 0, 0, 0, 1, 1, 1, 0, 1, 0, 0, 0, 0, 0, 0, 1, 0, 0, 0, 1, 0, 0,\n",
       "       0, 0, 0, 1, 0, 0, 0, 0, 0, 1, 1, 1, 0, 0, 0, 0, 0, 0, 0, 0, 1, 0,\n",
       "       0, 0, 1, 1, 1, 1, 1, 0, 0, 0, 0, 0, 1, 1, 0, 1, 0, 1, 0, 0, 1, 0,\n",
       "       0, 0, 1, 0, 0, 0, 1, 0, 0, 0, 0, 0, 1, 1, 0, 1, 1, 1, 0, 1, 0, 1,\n",
       "       0, 0, 0, 0, 0, 1, 1, 1, 1, 0, 1, 0, 0, 0, 0, 0, 0, 0, 0, 0, 1, 0,\n",
       "       0, 0, 0, 0, 0, 0, 1, 0, 1, 0, 0, 1, 0, 1, 1, 0, 0, 0, 0, 0, 0, 0,\n",
       "       1, 0, 0, 0, 0, 0, 0, 1, 0, 0, 0, 0, 0, 0, 1, 0, 0, 1, 0, 0, 0, 0,\n",
       "       1, 0, 0, 0, 0, 1, 1, 1, 0, 1, 0, 0, 1, 0, 1, 0, 1, 0, 0, 1, 1, 0,\n",
       "       0, 0, 0, 0, 0, 0, 1, 0, 0, 0, 0, 1, 1, 1, 0, 1, 0, 1, 0, 0, 1, 1,\n",
       "       0, 0, 1, 0, 1, 0, 0, 1, 0, 1, 1, 1, 1, 0, 0, 1, 1, 1, 0, 0, 0, 1,\n",
       "       1, 1, 0, 0, 0, 0, 1, 0, 0, 0, 0, 1, 0, 0, 1, 1, 0, 1, 1, 0, 1, 0,\n",
       "       1, 0, 0, 1, 0, 1, 0, 0, 0, 0, 0, 0, 0, 1, 0, 0, 0, 0, 1, 0, 0, 0,\n",
       "       0, 1, 1, 1, 0, 0, 0, 0, 0, 0, 0, 0, 0, 0, 1, 1, 0, 0, 0, 0, 1, 0,\n",
       "       0, 0, 0, 1, 0, 0, 0, 0, 0, 0, 0, 0, 1, 1, 0, 0, 0, 1, 0, 0, 0, 1,\n",
       "       0, 0, 1, 1, 0, 0, 0, 1, 0, 0, 1, 0, 0, 1, 0, 0, 0, 0, 0, 0, 1, 0,\n",
       "       0, 0, 0, 0, 0, 0, 1, 1, 0, 0, 1, 0, 0, 0, 0, 0, 0, 0, 1, 1, 0, 1,\n",
       "       0, 0, 1, 0, 0, 0, 0, 0, 0, 0, 0, 1, 0, 1, 0, 0, 0, 0, 0, 1, 0, 0,\n",
       "       0, 1, 0, 0, 1, 0, 0, 0, 0, 0, 0, 0, 0, 0, 1, 1, 0, 0, 1, 0, 1, 1,\n",
       "       0, 0, 1, 0, 1, 1, 0, 0, 0, 0, 0, 0, 0, 0, 0, 0, 0, 0, 0, 1, 0, 0,\n",
       "       1, 0, 1, 0, 1, 0, 0, 0, 0, 0, 1, 1, 1, 1, 0, 0, 0, 1, 0, 0, 0, 0,\n",
       "       0, 0, 0, 0, 0, 0, 0, 0, 0, 0, 1, 0, 0, 1, 0, 0, 1, 1, 1, 0, 0, 0,\n",
       "       0, 1, 1, 0, 0, 0, 0, 0, 1, 1, 1, 0, 1, 0, 1, 0, 0, 1, 0, 0, 0, 0,\n",
       "       0, 0, 1, 0, 0, 0, 0, 0, 1, 1, 0, 0, 1, 0, 0, 0, 1, 0, 0, 0, 0, 0,\n",
       "       1, 1, 1, 0, 0, 1, 0, 1, 1, 1, 1, 1, 0, 0, 0, 0, 0, 1, 0, 0, 0, 0,\n",
       "       0, 0, 0, 1, 0, 1, 0, 0, 1, 0, 1, 1, 1, 0, 1, 0, 0, 1, 1, 0, 0, 0,\n",
       "       0, 0, 0, 0, 1, 1, 1, 0, 0, 0, 1, 0, 0, 0, 0, 0, 1, 1])"
      ]
     },
     "execution_count": 45,
     "metadata": {},
     "output_type": "execute_result"
    }
   ],
   "source": [
    "y_train"
   ]
  },
  {
   "cell_type": "code",
   "execution_count": 46,
   "metadata": {},
   "outputs": [
    {
     "data": {
      "text/plain": [
       "array([1, 0, 0, 0, 1, 0, 1, 0, 0, 0, 0, 0, 0, 0, 0, 0, 0, 0, 0, 0, 0, 0,\n",
       "       1, 0, 0, 0, 0, 0, 0, 1, 1, 0, 0, 1, 0, 1, 0, 1, 0, 0, 1, 1, 0, 0,\n",
       "       0, 0, 0, 0, 0, 0, 0, 0, 0, 1, 1, 1, 0, 0, 0, 0, 1, 0, 0, 0, 0, 0,\n",
       "       1, 1, 0, 0, 1, 0, 0, 0, 1, 0, 0, 1, 0, 0, 0, 0, 0, 0, 0, 1, 1, 0,\n",
       "       1, 0, 0, 0, 0, 0, 1, 0, 0, 0, 0, 0, 0, 0, 0, 0, 0, 0, 0, 1, 0, 0,\n",
       "       0, 0, 0, 0, 0, 0, 0, 0, 0, 0, 0, 1, 0, 0, 1, 0, 0, 1, 1, 0, 1, 1,\n",
       "       0, 0, 0, 0, 0, 1, 1, 1, 1, 0, 0, 0, 0, 1, 0, 1, 0, 0, 0, 0, 1, 0,\n",
       "       0, 0, 0, 1, 0, 0, 0, 0, 0, 1, 1, 1, 0, 0, 0, 0, 0, 1, 0, 0, 1, 0,\n",
       "       0, 0, 1, 0, 1, 1, 0, 0, 0, 0, 0, 0, 0, 1, 0, 1, 0, 1, 0, 0, 1, 0,\n",
       "       0, 0, 1, 0, 0, 0, 1, 0, 0, 0, 0, 0, 1, 0, 1, 0, 1, 1, 0, 0, 0, 1,\n",
       "       0, 0, 0, 0, 0, 0, 1, 0, 0, 0, 0, 0, 0, 0, 0, 0, 0, 0, 0, 0, 0, 0,\n",
       "       1, 0, 0, 0, 0, 0, 1, 1, 0, 1, 0, 1, 0, 1, 0, 0, 0, 1, 0, 0, 0, 0,\n",
       "       1, 1, 0, 0, 0, 0, 0, 0, 0, 0, 0, 0, 0, 0, 1, 0, 0, 1, 0, 0, 0, 0,\n",
       "       0, 0, 0, 0, 0, 1, 1, 1, 1, 1, 0, 0, 1, 0, 0, 0, 0, 0, 0, 0, 1, 0,\n",
       "       0, 0, 0, 0, 1, 0, 0, 0, 0, 1, 0, 0, 1, 0, 0, 0, 0, 1, 0, 1, 0, 0,\n",
       "       0, 0, 1, 0, 1, 0, 0, 0, 0, 1, 1, 1, 1, 0, 0, 0, 0, 1, 0, 0, 0, 0,\n",
       "       1, 0, 0, 1, 0, 0, 1, 0, 0, 0, 1, 1, 0, 0, 1, 1, 0, 0, 0, 0, 1, 1,\n",
       "       1, 1, 0, 1, 0, 0, 0, 0, 0, 1, 0, 0, 0, 0, 0, 0, 0, 0, 1, 0, 0, 0,\n",
       "       0, 1, 0, 1, 0, 1, 0, 0, 1, 0, 1, 0, 1, 0, 1, 0, 0, 0, 0, 0, 0, 0,\n",
       "       0, 0, 0, 1, 1, 0, 0, 1, 0, 0, 0, 0, 0, 1, 0, 0, 0, 1, 0, 0, 0, 1,\n",
       "       0, 0, 1, 1, 0, 0, 0, 0, 1, 0, 1, 0, 0, 0, 0, 0, 0, 0, 0, 0, 1, 0,\n",
       "       0, 0, 0, 0, 0, 0, 0, 1, 0, 0, 1, 0, 0, 0, 0, 0, 0, 0, 1, 0, 0, 0,\n",
       "       0, 0, 0, 0, 0, 0, 0, 0, 0, 0, 0, 1, 0, 0, 0, 0, 0, 1, 0, 1, 1, 1,\n",
       "       0, 0, 1, 0, 0, 0, 0, 0, 0, 0, 0, 0, 0, 0, 0, 0, 1, 0, 1, 0, 1, 0,\n",
       "       0, 0, 1, 0, 0, 0, 0, 0, 1, 0, 0, 1, 1, 0, 0, 0, 0, 0, 0, 1, 0, 0,\n",
       "       1, 1, 0, 0, 1, 0, 0, 0, 0, 0, 1, 1, 1, 1, 0, 0, 0, 1, 0, 0, 0, 0,\n",
       "       1, 0, 0, 0, 0, 0, 0, 0, 0, 0, 1, 0, 0, 1, 0, 0, 0, 0, 0, 0, 0, 0,\n",
       "       0, 1, 1, 1, 0, 0, 0, 0, 1, 1, 0, 0, 1, 0, 1, 0, 0, 1, 0, 0, 0, 0,\n",
       "       0, 0, 1, 0, 1, 0, 0, 0, 1, 1, 0, 0, 0, 0, 0, 0, 1, 0, 0, 0, 0, 0,\n",
       "       0, 1, 1, 0, 0, 1, 0, 0, 1, 0, 1, 1, 0, 0, 0, 1, 1, 1, 0, 1, 0, 0,\n",
       "       0, 1, 0, 0, 0, 0, 0, 0, 0, 0, 0, 1, 1, 0, 1, 0, 0, 1, 0, 0, 0, 0,\n",
       "       0, 0, 0, 0, 1, 1, 1, 0, 0, 0, 0, 0, 0, 0, 0, 0, 1, 0])"
      ]
     },
     "execution_count": 46,
     "metadata": {},
     "output_type": "execute_result"
    }
   ],
   "source": [
    "y_train_pred"
   ]
  },
  {
   "cell_type": "code",
   "execution_count": 47,
   "metadata": {},
   "outputs": [
    {
     "data": {
      "text/plain": [
       "(<matplotlib.figure.Figure at 0x115941150>,\n",
       " <matplotlib.axes._subplots.AxesSubplot at 0x1159653d0>)"
      ]
     },
     "execution_count": 47,
     "metadata": {},
     "output_type": "execute_result"
    },
    {
     "data": {
      "image/png": "[encoded data removed]",
      "text/plain": [
       "<matplotlib.figure.Figure at 0x115941150>"
      ]
     },
     "metadata": {},
     "output_type": "display_data"
    }
   ],
   "source": [
    "cf = metrics.confusion_matrix(y_test, y_test_pred)\n",
    "plot_confusion_matrix(cf)\n",
    "\n",
    "\"\"\"\n",
    "------|------|\n",
    "|     |      |\n",
    "|  TP |  FN  |\n",
    "|     |      |\n",
    "------|------|\n",
    "|     |      |  \n",
    "|  FP |  TN  |\n",
    "|     |      |\n",
    "------|------|\n",
    "\n",
    "TP: True Positive\n",
    "TN: True Negative\n",
    "\n",
    "FN: False Negative\n",
    "FP: False Positive\n",
    "\n",
    "Middle line is the barrier\n",
    "\"\"\""
   ]
  },
  {
   "cell_type": "code",
   "execution_count": 48,
   "metadata": {},
   "outputs": [
    {
     "data": {
      "text/plain": [
       "0.7566666666666667"
      ]
     },
     "execution_count": 48,
     "metadata": {},
     "output_type": "execute_result"
    }
   ],
   "source": [
    "metrics.accuracy_score(y_test, y_test_pred)"
   ]
  },
  {
   "cell_type": "code",
   "execution_count": 49,
   "metadata": {},
   "outputs": [],
   "source": [
    "y_test_prob = pipe.predict_proba(X_test)[:, 1]"
   ]
  },
  {
   "cell_type": "code",
   "execution_count": 50,
   "metadata": {},
   "outputs": [
    {
     "data": {
      "text/plain": [
       "array([0.39057174, 0.93703644, 0.20657021, 0.61518513, 0.84263414,\n",
       "       0.64645627, 0.4494791 , 0.2594988 , 0.07077182, 0.213155  ,\n",
       "       0.82216781, 0.47922995, 0.10628614, 0.04927787, 0.37051886,\n",
       "       0.40154836, 0.02384756, 0.08634611, 0.03673578, 0.8716225 ,\n",
       "       0.17347053, 0.68418377, 0.08289624, 0.08335264, 0.20201892,\n",
       "       0.14277761, 0.11199784, 0.22723868, 0.08939474, 0.8914261 ,\n",
       "       0.3687219 , 0.03176349, 0.45735348, 0.21773117, 0.30430631,\n",
       "       0.92027889, 0.24340843, 0.4961519 , 0.1303132 , 0.0819819 ,\n",
       "       0.09401154, 0.58658622, 0.009761  , 0.49218681, 0.04921602,\n",
       "       0.03568655, 0.10812248, 0.27239898, 0.0533497 , 0.10149276,\n",
       "       0.22215534, 0.45281983, 0.59676824, 0.51534091, 0.22166303,\n",
       "       0.1454495 , 0.58814834, 0.65672602, 0.02847046, 0.59138439,\n",
       "       0.43687783, 0.07374869, 0.52003891, 0.01800186, 0.56258666,\n",
       "       0.25013105, 0.18103621, 0.05744698, 0.8604261 , 0.93227089,\n",
       "       0.16641523, 0.22303058, 0.03080095, 0.59138775, 0.14556237,\n",
       "       0.55082432, 0.84322801, 0.05227972, 0.0966646 , 0.24748689,\n",
       "       0.19246639, 0.03718549, 0.00550668, 0.02445889, 0.26165127,\n",
       "       0.34529272, 0.0940156 , 0.13756345, 0.80563204, 0.00794201,\n",
       "       0.01084977, 0.63946989, 0.24932876, 0.13301412, 0.62288988,\n",
       "       0.11903457, 0.09637669, 0.82826685, 0.02797912, 0.38063661,\n",
       "       0.08929871, 0.36145883, 0.42511122, 0.02401298, 0.04516102,\n",
       "       0.10011397, 0.23393068, 0.9616976 , 0.25334547, 0.3893172 ,\n",
       "       0.16308025, 0.11355227, 0.23507476, 0.925519  , 0.27243899,\n",
       "       0.09996288, 0.66100944, 0.17774929, 0.46153615, 0.23832734,\n",
       "       0.54196139, 0.31583181, 0.28901869, 0.45310754, 0.02287807,\n",
       "       0.112496  , 0.11789029, 0.74241774, 0.04098335, 0.1645397 ,\n",
       "       0.10623964, 0.15458662, 0.0594065 , 0.01202243, 0.08284084,\n",
       "       0.00837573, 0.10915741, 0.0413202 , 0.1193943 , 0.00574182,\n",
       "       0.40932489, 0.08552898, 0.86767009, 0.21386134, 0.58694845,\n",
       "       0.08616596, 0.17820608, 0.02470413, 0.24083814, 0.1706881 ,\n",
       "       0.09004371, 0.24618256, 0.00867237, 0.24644463, 0.08827954,\n",
       "       0.12554418, 0.26978616, 0.38435142, 0.19525999, 0.06659981,\n",
       "       0.00620344, 0.45182594, 0.45008945, 0.06516121, 0.84902513,\n",
       "       0.02463326, 0.15766645, 0.62873113, 0.13138149, 0.10359019,\n",
       "       0.22533226, 0.07294042, 0.02951102, 0.3578911 , 0.79701231,\n",
       "       0.75415022, 0.160898  , 0.06149944, 0.27618377, 0.23846421,\n",
       "       0.57313522, 0.37219021, 0.8222825 , 0.54110507, 0.62851457,\n",
       "       0.03654159, 0.02095186, 0.11979726, 0.30662725, 0.50485533,\n",
       "       0.34165485, 0.57277568, 0.22279552, 0.13259946, 0.05499908,\n",
       "       0.01502141, 0.63634499, 0.05405779, 0.09697998, 0.11547241,\n",
       "       0.28515608, 0.05581241, 0.36711358, 0.05906426, 0.37680193,\n",
       "       0.11975831, 0.08791303, 0.01206253, 0.4207515 , 0.46515847,\n",
       "       0.08923811, 0.11066645, 0.89705155, 0.37226814, 0.26648972,\n",
       "       0.3678598 , 0.76442015, 0.08369561, 0.93058838, 0.28853098,\n",
       "       0.76126313, 0.40910444, 0.61994566, 0.17218122, 0.14343726,\n",
       "       0.53100119, 0.3308464 , 0.61532843, 0.47433651, 0.11139849,\n",
       "       0.2063658 , 0.03199007, 0.12140511, 0.12880782, 0.53606997,\n",
       "       0.08969088, 0.40005052, 0.07487366, 0.69457084, 0.11883016,\n",
       "       0.13107724, 0.03293178, 0.70708305, 0.72812424, 0.05484787,\n",
       "       0.04658275, 0.72413777, 0.22907606, 0.01090677, 0.00245234,\n",
       "       0.05405092, 0.0123073 , 0.41343355, 0.82062858, 0.53995292,\n",
       "       0.69955464, 0.17729505, 0.61387941, 0.1061732 , 0.19149017,\n",
       "       0.05000008, 0.13683619, 0.0384137 , 0.01889473, 0.05958739,\n",
       "       0.0938131 , 0.47394598, 0.06989613, 0.34038173, 0.60970133,\n",
       "       0.17944911, 0.01929338, 0.82807342, 0.21331858, 0.11424844,\n",
       "       0.04714082, 0.09592931, 0.08681318, 0.01251738, 0.61132999,\n",
       "       0.24429824, 0.13941415, 0.43083101, 0.7176307 , 0.38120027,\n",
       "       0.29070134, 0.02277965, 0.42180472, 0.04930928, 0.07232152,\n",
       "       0.1788806 , 0.05094973, 0.52653658, 0.24387562, 0.47679425,\n",
       "       0.08813153, 0.02278705, 0.00791871, 0.36885521, 0.0646378 ])"
      ]
     },
     "execution_count": 50,
     "metadata": {},
     "output_type": "execute_result"
    }
   ],
   "source": [
    "y_test_prob"
   ]
  },
  {
   "cell_type": "code",
   "execution_count": 52,
   "metadata": {},
   "outputs": [
    {
     "name": "stdout",
     "output_type": "stream",
     "text": [
      "('accuracy:', 0.7566666666666667, '\\n precision:', 0.6, '\\n recall:', 0.45348837209302323, '\\n f1_score:', 0.5165562913907285)\n"
     ]
    },
    {
     "data": {
      "image/png": "[encoded data removed]",
      "text/plain": [
       "<matplotlib.figure.Figure at 0x115d69110>"
      ]
     },
     "metadata": {},
     "output_type": "display_data"
    }
   ],
   "source": [
    "y_test_pred = np.where(y_test_prob > 0.5, 1, 0) #0.5 is the prob threshold\n",
    "cf = metrics.confusion_matrix(y_test, y_test_pred)\n",
    "plot_confusion_matrix(cf)\n",
    "print(\"accuracy:\", metrics.accuracy_score(y_test, y_test_pred),\n",
    "     \"\\n precision:\", metrics.precision_score(y_test, y_test_pred),\n",
    "     \"\\n recall:\", metrics.recall_score(y_test, y_test_pred),\n",
    "     \"\\n f1_score:\", metrics.f1_score(y_test, y_test_pred))"
   ]
  },
  {
   "cell_type": "code",
   "execution_count": 53,
   "metadata": {},
   "outputs": [
    {
     "name": "stdout",
     "output_type": "stream",
     "text": [
      "('accuracy:', 0.7466666666666667, '\\nprecision:', 0.75, '\\nrecall:', 0.1744186046511628, '\\nf1_score:', 0.28301886792452835)\n"
     ]
    },
    {
     "data": {
      "image/png": "[encoded data removed]",
      "text/plain": [
       "<matplotlib.figure.Figure at 0x115adc950>"
      ]
     },
     "metadata": {},
     "output_type": "display_data"
    }
   ],
   "source": [
    "y_test_pred = np.where(y_test_prob > 0.8, 1, 0) #0.5 is the prob threshold\n",
    "cf = metrics.confusion_matrix(y_test, y_test_pred)\n",
    "plot_confusion_matrix(cf)\n",
    "print(\"accuracy:\", metrics.accuracy_score(y_test, y_test_pred),\n",
    "     \"\\nprecision:\", metrics.precision_score(y_test, y_test_pred),\n",
    "     \"\\nrecall:\", metrics.recall_score(y_test, y_test_pred),\n",
    "     \"\\nf1_score:\", metrics.f1_score(y_test, y_test_pred))"
   ]
  },
  {
   "cell_type": "code",
   "execution_count": 54,
   "metadata": {},
   "outputs": [
    {
     "name": "stdout",
     "output_type": "stream",
     "text": [
      "('accuracy:', 0.6466666666666666, '\\nprecision:', 0.43333333333333335, '\\nrecall:', 0.7558139534883721, '\\nf1_score:', 0.5508474576271187)\n"
     ]
    },
    {
     "data": {
      "image/png": "[encoded data removed]",
      "text/plain": [
       "<matplotlib.figure.Figure at 0x1171d1610>"
      ]
     },
     "metadata": {},
     "output_type": "display_data"
    }
   ],
   "source": [
    "y_test_pred = np.where(y_test_prob > 0.2, 1, 0) #0.5 is the prob threshold\n",
    "cf = metrics.confusion_matrix(y_test, y_test_pred)\n",
    "plot_confusion_matrix(cf)\n",
    "print(\"accuracy:\", metrics.accuracy_score(y_test, y_test_pred),\n",
    "     \"\\nprecision:\", metrics.precision_score(y_test, y_test_pred),\n",
    "     \"\\nrecall:\", metrics.recall_score(y_test, y_test_pred),\n",
    "     \"\\nf1_score:\", metrics.f1_score(y_test, y_test_pred))"
   ]
  },
  {
   "cell_type": "code",
   "execution_count": 55,
   "metadata": {},
   "outputs": [
    {
     "data": {
      "text/plain": [
       "0    0.694286\n",
       "1    0.305714\n",
       "dtype: float64"
      ]
     },
     "execution_count": 55,
     "metadata": {},
     "output_type": "execute_result"
    }
   ],
   "source": [
    "pd.Series(y_train).value_counts()/len(y_train)"
   ]
  },
  {
   "cell_type": "code",
   "execution_count": 56,
   "metadata": {},
   "outputs": [],
   "source": [
    "import matplotlib.pyplot as plt"
   ]
  },
  {
   "cell_type": "code",
   "execution_count": 57,
   "metadata": {},
   "outputs": [
    {
     "data": {
      "text/plain": [
       "Text(0,0.5,u'TPR')"
      ]
     },
     "execution_count": 57,
     "metadata": {},
     "output_type": "execute_result"
    },
    {
     "data": {
      "image/png": "[encoded data removed]",
      "text/plain": [
       "<matplotlib.figure.Figure at 0x1a21cc3cd0>"
      ]
     },
     "metadata": {},
     "output_type": "display_data"
    }
   ],
   "source": [
    "fpr, tpr, thresholds = metrics.roc_curve(y_test, y_test_prob)\n",
    "plt.plot(fpr, tpr)\n",
    "plt.title(\"ROC, auc: %f\" % metrics.auc(fpr, tpr))\n",
    "plt.xlabel(\"FPR\")\n",
    "plt.ylabel(\"TPR\")"
   ]
  },
  {
   "cell_type": "code",
   "execution_count": null,
   "metadata": {},
   "outputs": [],
   "source": []
  }
 ],
 "metadata": {
  "kernelspec": {
   "display_name": "Python 2",
   "language": "python",
   "name": "python2"
  },
  "language_info": {
   "codemirror_mode": {
    "name": "ipython",
    "version": 2
   },
   "file_extension": ".py",
   "mimetype": "text/x-python",
   "name": "python",
   "nbconvert_exporter": "python",
   "pygments_lexer": "ipython2",
   "version": "2.7.14"
  }
 },
 "nbformat": 4,
 "nbformat_minor": 2
}
